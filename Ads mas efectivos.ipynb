{
 "cells": [
  {
   "cell_type": "code",
   "execution_count": null,
   "metadata": {},
   "outputs": [],
   "source": [
    "import pandas as pd\n",
    "import matplotlib.pyplot as plt "
   ]
  },
  {
   "cell_type": "code",
   "execution_count": null,
   "metadata": {},
   "outputs": [],
   "source": [
    "datos = pd.read_csv('events.csv')"
   ]
  },
  {
   "cell_type": "code",
   "execution_count": null,
   "metadata": {},
   "outputs": [],
   "source": [
    "datos_event = datos[datos[\"event\"] == \"ad campaign hit\"]\n",
    "datos_event[[\"person\"]].dropna().drop_duplicates()"
   ]
  },
  {
   "cell_type": "code",
   "execution_count": null,
   "metadata": {
    "scrolled": false
   },
   "outputs": [],
   "source": [
    "datos_ = datos[[\"timestamp\",\"person\",\"event\",\"campaign_source\"]].dropna().groupby(\"campaign_source\")[\"event\"]\n",
    "\n",
    "#datos_.apply(lambda x: 100 * x/float(x.sum()))\n",
    "p = datos_.count().plot.barh(width = 0.5, figsize=(20,10))\n",
    "p.axes.set_xscale(\"log\")\n",
    "p.set_xlabel(\"Cantidad de ads\", size = 16)\n",
    "p.set_ylabel(\"Origen del ad\", size = 16)\n",
    "p.set_title(\"Ads por donde se entra a la página\", size = 22)\n",
    "\n",
    "\n",
    "for v in p.patches:\n",
    "    p.annotate(str(int(v.get_width())), (v.get_x() + v.get_width()*1.5, v.get_y()), xytext=(-2, 4), textcoords='offset points', horizontalalignment='right')"
   ]
  }
 ],
 "metadata": {
  "kernelspec": {
   "display_name": "Python 3",
   "language": "python",
   "name": "python3"
  },
  "language_info": {
   "codemirror_mode": {
    "name": "ipython",
    "version": 3
   },
   "file_extension": ".py",
   "mimetype": "text/x-python",
   "name": "python",
   "nbconvert_exporter": "python",
   "pygments_lexer": "ipython3",
   "version": "3.6.5"
  }
 },
 "nbformat": 4,
 "nbformat_minor": 2
}
