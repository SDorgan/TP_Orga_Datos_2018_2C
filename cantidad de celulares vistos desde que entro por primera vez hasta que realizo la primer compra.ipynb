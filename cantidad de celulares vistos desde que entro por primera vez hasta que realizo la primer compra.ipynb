{
 "cells": [
  {
   "cell_type": "code",
   "execution_count": 65,
   "metadata": {},
   "outputs": [],
   "source": [
    "import pandas as pd\n",
    "import numpy as np\n",
    "import seaborn as sns\n",
    "import matplotlib.pyplot as plt"
   ]
  },
  {
   "cell_type": "code",
   "execution_count": 2,
   "metadata": {},
   "outputs": [
    {
     "name": "stderr",
     "output_type": "stream",
     "text": [
      "C:\\Users\\Martín-\\Anaconda3\\lib\\site-packages\\IPython\\core\\interactiveshell.py:2728: DtypeWarning: Columns (4) have mixed types. Specify dtype option on import or set low_memory=False.\n",
      "  interactivity=interactivity, compiler=compiler, result=result)\n"
     ]
    },
    {
     "data": {
      "text/html": [
       "<div>\n",
       "<style scoped>\n",
       "    .dataframe tbody tr th:only-of-type {\n",
       "        vertical-align: middle;\n",
       "    }\n",
       "\n",
       "    .dataframe tbody tr th {\n",
       "        vertical-align: top;\n",
       "    }\n",
       "\n",
       "    .dataframe thead th {\n",
       "        text-align: right;\n",
       "    }\n",
       "</style>\n",
       "<table border=\"1\" class=\"dataframe\">\n",
       "  <thead>\n",
       "    <tr style=\"text-align: right;\">\n",
       "      <th></th>\n",
       "      <th>timestamp</th>\n",
       "      <th>person</th>\n",
       "      <th>model</th>\n",
       "    </tr>\n",
       "  </thead>\n",
       "  <tbody>\n",
       "    <tr>\n",
       "      <th>220</th>\n",
       "      <td>2018-03-20 17:46:12</td>\n",
       "      <td>00204059</td>\n",
       "      <td>Motorola Moto X2</td>\n",
       "    </tr>\n",
       "    <tr>\n",
       "      <th>2282</th>\n",
       "      <td>2018-04-26 22:28:53</td>\n",
       "      <td>00c13dee</td>\n",
       "      <td>Samsung Galaxy Core Plus Duos TV</td>\n",
       "    </tr>\n",
       "    <tr>\n",
       "      <th>2547</th>\n",
       "      <td>2018-06-10 14:37:50</td>\n",
       "      <td>00fdbb4b</td>\n",
       "      <td>Samsung Galaxy S6 Flat</td>\n",
       "    </tr>\n",
       "    <tr>\n",
       "      <th>4245</th>\n",
       "      <td>2018-03-16 13:50:25</td>\n",
       "      <td>0146a9df</td>\n",
       "      <td>iPhone 5s</td>\n",
       "    </tr>\n",
       "    <tr>\n",
       "      <th>6985</th>\n",
       "      <td>2018-02-09 22:07:07</td>\n",
       "      <td>01db2fe6</td>\n",
       "      <td>Samsung Galaxy J5</td>\n",
       "    </tr>\n",
       "  </tbody>\n",
       "</table>\n",
       "</div>"
      ],
      "text/plain": [
       "                timestamp    person                             model\n",
       "220   2018-03-20 17:46:12  00204059                  Motorola Moto X2\n",
       "2282  2018-04-26 22:28:53  00c13dee  Samsung Galaxy Core Plus Duos TV\n",
       "2547  2018-06-10 14:37:50  00fdbb4b            Samsung Galaxy S6 Flat\n",
       "4245  2018-03-16 13:50:25  0146a9df                         iPhone 5s\n",
       "6985  2018-02-09 22:07:07  01db2fe6                 Samsung Galaxy J5"
      ]
     },
     "execution_count": 2,
     "metadata": {},
     "output_type": "execute_result"
    }
   ],
   "source": [
    "datos = pd.read_csv('events.csv')\n",
    "datos_conversion_r = datos[datos[\"event\"] == \"conversion\"].drop_duplicates(\"person\")\n",
    "datos_conversion = datos_conversion_r[[\"timestamp\",\"person\",\"model\"]].dropna()\n",
    "datos_conversion.head()"
   ]
  },
  {
   "cell_type": "code",
   "execution_count": 28,
   "metadata": {},
   "outputs": [
    {
     "data": {
      "text/html": [
       "<div>\n",
       "<style scoped>\n",
       "    .dataframe tbody tr th:only-of-type {\n",
       "        vertical-align: middle;\n",
       "    }\n",
       "\n",
       "    .dataframe tbody tr th {\n",
       "        vertical-align: top;\n",
       "    }\n",
       "\n",
       "    .dataframe thead th {\n",
       "        text-align: right;\n",
       "    }\n",
       "</style>\n",
       "<table border=\"1\" class=\"dataframe\">\n",
       "  <thead>\n",
       "    <tr style=\"text-align: right;\">\n",
       "      <th></th>\n",
       "      <th>person</th>\n",
       "      <th>timestamp2</th>\n",
       "      <th>timestamp</th>\n",
       "      <th>model</th>\n",
       "    </tr>\n",
       "  </thead>\n",
       "  <tbody>\n",
       "    <tr>\n",
       "      <th>0</th>\n",
       "      <td>00204059</td>\n",
       "      <td>2018-03-20 17:46:12</td>\n",
       "      <td>2018-01-31 17:01:46</td>\n",
       "      <td>iPhone 5s</td>\n",
       "    </tr>\n",
       "    <tr>\n",
       "      <th>1</th>\n",
       "      <td>00204059</td>\n",
       "      <td>2018-03-20 17:46:12</td>\n",
       "      <td>2018-01-31 17:03:56</td>\n",
       "      <td>iPhone 5c</td>\n",
       "    </tr>\n",
       "    <tr>\n",
       "      <th>2</th>\n",
       "      <td>00204059</td>\n",
       "      <td>2018-03-20 17:46:12</td>\n",
       "      <td>2018-02-01 23:16:46</td>\n",
       "      <td>Motorola Moto G3 4G</td>\n",
       "    </tr>\n",
       "    <tr>\n",
       "      <th>3</th>\n",
       "      <td>00204059</td>\n",
       "      <td>2018-03-20 17:46:12</td>\n",
       "      <td>2018-02-02 17:39:39</td>\n",
       "      <td>Motorola Moto G4 Play DTV</td>\n",
       "    </tr>\n",
       "    <tr>\n",
       "      <th>4</th>\n",
       "      <td>00204059</td>\n",
       "      <td>2018-03-20 17:46:12</td>\n",
       "      <td>2018-02-06 02:31:44</td>\n",
       "      <td>Asus Zenfone 2</td>\n",
       "    </tr>\n",
       "  </tbody>\n",
       "</table>\n",
       "</div>"
      ],
      "text/plain": [
       "     person           timestamp2            timestamp  \\\n",
       "0  00204059  2018-03-20 17:46:12  2018-01-31 17:01:46   \n",
       "1  00204059  2018-03-20 17:46:12  2018-01-31 17:03:56   \n",
       "2  00204059  2018-03-20 17:46:12  2018-02-01 23:16:46   \n",
       "3  00204059  2018-03-20 17:46:12  2018-02-02 17:39:39   \n",
       "4  00204059  2018-03-20 17:46:12  2018-02-06 02:31:44   \n",
       "\n",
       "                       model  \n",
       "0                  iPhone 5s  \n",
       "1                  iPhone 5c  \n",
       "2        Motorola Moto G3 4G  \n",
       "3  Motorola Moto G4 Play DTV  \n",
       "4             Asus Zenfone 2  "
      ]
     },
     "execution_count": 28,
     "metadata": {},
     "output_type": "execute_result"
    }
   ],
   "source": [
    "datos_viewed_product_r = datos[datos[\"event\"] == \"viewed product\"].drop_duplicates()\n",
    "datos_viewed_product = datos_viewed_product_r[[\"timestamp\",\"person\",\"model\"]].drop_duplicates(subset=[\"person\",\"model\"], keep='first')\n",
    "\n",
    "gente_compro = datos_conversion[[\"person\",\"timestamp\"]].dropna()\n",
    "gente_compro.columns = [\"person\",\"timestamp2\"]\n",
    "\n",
    "vistos_gente_compro = pd.merge(gente_compro, datos_viewed_product, how='left', on='person')\n",
    "vistos_gente_compro.head()"
   ]
  },
  {
   "cell_type": "code",
   "execution_count": 29,
   "metadata": {},
   "outputs": [],
   "source": [
    "vistos_gente_compro['timestamp'] = pd.to_datetime(vistos_gente_compro['timestamp'])\n",
    "vistos_gente_compro['timestamp2'] = pd.to_datetime(vistos_gente_compro['timestamp2'])\n",
    "\n",
    "vistos_gente_compro[\"tiempo en comprar\"] = pd.to_numeric(vistos_gente_compro[\"timestamp2\"] - vistos_gente_compro[\"timestamp\"])\n",
    "vistos_gente_compro_=vistos_gente_compro.index[vistos_gente_compro[\"tiempo en comprar\"] > 0]\n",
    "vistos_gente_compro_antes = vistos_gente_compro.loc[vistos_gente_compro_]"
   ]
  },
  {
   "cell_type": "code",
   "execution_count": 81,
   "metadata": {},
   "outputs": [
    {
     "data": {
      "text/html": [
       "<div>\n",
       "<style scoped>\n",
       "    .dataframe tbody tr th:only-of-type {\n",
       "        vertical-align: middle;\n",
       "    }\n",
       "\n",
       "    .dataframe tbody tr th {\n",
       "        vertical-align: top;\n",
       "    }\n",
       "\n",
       "    .dataframe thead th {\n",
       "        text-align: right;\n",
       "    }\n",
       "</style>\n",
       "<table border=\"1\" class=\"dataframe\">\n",
       "  <thead>\n",
       "    <tr style=\"text-align: right;\">\n",
       "      <th></th>\n",
       "      <th>timestamp</th>\n",
       "      <th>timestamp2</th>\n",
       "    </tr>\n",
       "    <tr>\n",
       "      <th>person</th>\n",
       "      <th></th>\n",
       "      <th></th>\n",
       "    </tr>\n",
       "  </thead>\n",
       "  <tbody>\n",
       "    <tr>\n",
       "      <th>00204059</th>\n",
       "      <td>8</td>\n",
       "      <td>8</td>\n",
       "    </tr>\n",
       "    <tr>\n",
       "      <th>00c13dee</th>\n",
       "      <td>6</td>\n",
       "      <td>6</td>\n",
       "    </tr>\n",
       "    <tr>\n",
       "      <th>0146a9df</th>\n",
       "      <td>1</td>\n",
       "      <td>1</td>\n",
       "    </tr>\n",
       "    <tr>\n",
       "      <th>01db2fe6</th>\n",
       "      <td>3</td>\n",
       "      <td>3</td>\n",
       "    </tr>\n",
       "    <tr>\n",
       "      <th>03bdcd81</th>\n",
       "      <td>4</td>\n",
       "      <td>4</td>\n",
       "    </tr>\n",
       "  </tbody>\n",
       "</table>\n",
       "</div>"
      ],
      "text/plain": [
       "          timestamp  timestamp2\n",
       "person                         \n",
       "00204059          8           8\n",
       "00c13dee          6           6\n",
       "0146a9df          1           1\n",
       "01db2fe6          3           3\n",
       "03bdcd81          4           4"
      ]
     },
     "execution_count": 81,
     "metadata": {},
     "output_type": "execute_result"
    }
   ],
   "source": [
    "vistos = vistos_gente_compro_antes.groupby('person').agg({'timestamp':'count','timestamp2':'count'})\n",
    "vistos.head()"
   ]
  },
  {
   "cell_type": "code",
   "execution_count": 83,
   "metadata": {},
   "outputs": [
    {
     "data": {
      "text/html": [
       "<div>\n",
       "<style scoped>\n",
       "    .dataframe tbody tr th:only-of-type {\n",
       "        vertical-align: middle;\n",
       "    }\n",
       "\n",
       "    .dataframe tbody tr th {\n",
       "        vertical-align: top;\n",
       "    }\n",
       "\n",
       "    .dataframe thead th {\n",
       "        text-align: right;\n",
       "    }\n",
       "</style>\n",
       "<table border=\"1\" class=\"dataframe\">\n",
       "  <thead>\n",
       "    <tr style=\"text-align: right;\">\n",
       "      <th></th>\n",
       "      <th>timestamp</th>\n",
       "      <th>timestamp2</th>\n",
       "    </tr>\n",
       "    <tr>\n",
       "      <th>timestamp</th>\n",
       "      <th></th>\n",
       "      <th></th>\n",
       "    </tr>\n",
       "  </thead>\n",
       "  <tbody>\n",
       "    <tr>\n",
       "      <th>(0 - 1)</th>\n",
       "      <td>454</td>\n",
       "      <td>454</td>\n",
       "    </tr>\n",
       "    <tr>\n",
       "      <th>(2 - 13)</th>\n",
       "      <td>51</td>\n",
       "      <td>51</td>\n",
       "    </tr>\n",
       "    <tr>\n",
       "      <th>(14 - 40)</th>\n",
       "      <td>6</td>\n",
       "      <td>6</td>\n",
       "    </tr>\n",
       "    <tr>\n",
       "      <th>(41 - 67)</th>\n",
       "      <td>4</td>\n",
       "      <td>4</td>\n",
       "    </tr>\n",
       "  </tbody>\n",
       "</table>\n",
       "</div>"
      ],
      "text/plain": [
       "           timestamp  timestamp2\n",
       "timestamp                       \n",
       "(0 - 1)          454         454\n",
       "(2 - 13)          51          51\n",
       "(14 - 40)          6           6\n",
       "(41 - 67)          4           4"
      ]
     },
     "execution_count": 83,
     "metadata": {},
     "output_type": "execute_result"
    }
   ],
   "source": [
    "datos_4_bins = vistos.groupby(pd.cut(vistos[\"timestamp\"], 4, labels = ('(0 - 1)','(2 - 13)', '(14 - 40)','(41 - 67)'))).count()\n",
    "datos_4_bins"
   ]
  },
  {
   "cell_type": "code",
   "execution_count": 86,
   "metadata": {},
   "outputs": [
    {
     "ename": "NameError",
     "evalue": "name 'ax' is not defined",
     "output_type": "error",
     "traceback": [
      "\u001b[1;31m---------------------------------------------------------------------------\u001b[0m",
      "\u001b[1;31mNameError\u001b[0m                                 Traceback (most recent call last)",
      "\u001b[1;32m<ipython-input-86-3a175f593821>\u001b[0m in \u001b[0;36m<module>\u001b[1;34m()\u001b[0m\n\u001b[0;32m     13\u001b[0m \u001b[0mp\u001b[0m\u001b[1;33m.\u001b[0m\u001b[0mset_title\u001b[0m\u001b[1;33m(\u001b[0m\u001b[1;34m\"Cantidad de personas vs. cantidad de celulares que vieron antes de comprar\"\u001b[0m\u001b[1;33m,\u001b[0m \u001b[0msize\u001b[0m \u001b[1;33m=\u001b[0m \u001b[1;36m22\u001b[0m\u001b[1;33m)\u001b[0m\u001b[1;33m\u001b[0m\u001b[0m\n\u001b[0;32m     14\u001b[0m \u001b[1;33m\u001b[0m\u001b[0m\n\u001b[1;32m---> 15\u001b[1;33m \u001b[1;32mfor\u001b[0m \u001b[0mi\u001b[0m \u001b[1;32min\u001b[0m \u001b[0max\u001b[0m\u001b[1;33m.\u001b[0m\u001b[0mpatches\u001b[0m\u001b[1;33m:\u001b[0m\u001b[1;33m\u001b[0m\u001b[0m\n\u001b[0m\u001b[0;32m     16\u001b[0m     \u001b[1;31m# get_width pulls left or right; get_y pushes up or down\u001b[0m\u001b[1;33m\u001b[0m\u001b[1;33m\u001b[0m\u001b[0m\n\u001b[0;32m     17\u001b[0m     ax.text (i.get_y()+.38, i.get_width()+.3,             str(round((i.get_y()/total)*100, 2))+'%', fontsize=15,\n",
      "\u001b[1;31mNameError\u001b[0m: name 'ax' is not defined"
     ]
    },
    {
     "data": {
      "image/png": "[encoded data removed]",
      "text/plain": [
       "<matplotlib.figure.Figure at 0x307599ac18>"
      ]
     },
     "metadata": {},
     "output_type": "display_data"
    }
   ],
   "source": [
    "x = np.logspace(0, 5, num=21)\n",
    "y = (np.sin(1.e-2*(x[:-1]-20))+3)**10\n",
    "\n",
    "p = datos_4_bins.plot(kind='bar',    # Plot a bar chart\n",
    "        legend=False,    # Turn the Legend off\n",
    "        width=0.75,      # Set bar width as 75% of space available\n",
    "        figsize=(8,5.8),  # Set size of plot in inches\n",
    "        color=[plt.cm.Paired(np.arange(len(vistos)))],\n",
    "        logy=True)\n",
    "\n",
    "p.set_xlabel(\"Cantidad de celulares que vieron antes de comprar\", size = 16)\n",
    "p.set_ylabel(\"Cantidad de personas\", size = 16)\n",
    "p.set_title(\"Cantidad de personas vs. cantidad de celulares que vieron antes de comprar\", size = 22)\n",
    "\n",
    "for i in ax.patches:\n",
    "    # get_width pulls left or right; get_y pushes up or down\n",
    "    ax.text (i.get_y()+.38, i.get_width()+.3, \\\n",
    "            str(round((i.get_y()/total)*100, 2))+'%', fontsize=15,\n",
    "color='dimgrey')"
   ]
  }
 ],
 "metadata": {
  "kernelspec": {
   "display_name": "Python 3",
   "language": "python",
   "name": "python3"
  },
  "language_info": {
   "codemirror_mode": {
    "name": "ipython",
    "version": 3
   },
   "file_extension": ".py",
   "mimetype": "text/x-python",
   "name": "python",
   "nbconvert_exporter": "python",
   "pygments_lexer": "ipython3",
   "version": "3.6.4"
  }
 },
 "nbformat": 4,
 "nbformat_minor": 2
}
