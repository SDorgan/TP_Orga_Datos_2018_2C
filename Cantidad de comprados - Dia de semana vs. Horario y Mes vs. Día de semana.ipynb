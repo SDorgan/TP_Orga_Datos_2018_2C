{
 "cells": [
  {
   "cell_type": "code",
   "execution_count": null,
   "metadata": {},
   "outputs": [],
   "source": [
    "import pandas as pd\n",
    "import seaborn as sb"
   ]
  },
  {
   "cell_type": "code",
   "execution_count": null,
   "metadata": {},
   "outputs": [],
   "source": [
    "datos = pd.read_csv('events.csv')"
   ]
  },
  {
   "cell_type": "code",
   "execution_count": null,
   "metadata": {},
   "outputs": [],
   "source": [
    "datos_comprados = datos[datos[\"event\"] == \"conversion\"].drop_duplicates(\"person\")\n",
    "datos_comprados[[\"timestamp\"]]"
   ]
  },
  {
   "cell_type": "code",
   "execution_count": null,
   "metadata": {},
   "outputs": [],
   "source": [
    "datos_comprados['timestamp'] = pd.to_datetime(datos_comprados['timestamp'])\n",
    "datos_comprados['hour'] = datos_comprados['timestamp'].dt.hour\n",
    "datos_comprados['weekday_name'] = datos_comprados['timestamp'].dt.weekday_name\n",
    "\n",
    "weekdays = [\"Monday\", \"Tuesday\", \"Wednesday\", \"Thursday\", \"Friday\", \"Saturday\", \"Sunday\"]\n",
    "\n",
    "cross = pd.crosstab(datos_comprados.hour, datos_comprados.weekday_name)\n",
    "cross = cross.reindex(columns=weekdays)\n",
    "cross.head()\n",
    "\n",
    "g = sb.heatmap(cross,  cmap=\"BuPu\")\n",
    "g.set_title(\"Cantidad de compras por hora y día de semana\", fontsize=22)\n",
    "g.set_xlabel(\"Día de semana\",fontsize=16)\n",
    "g.set_ylabel(\"Horario\", fontsize=16)"
   ]
  },
  {
   "cell_type": "code",
   "execution_count": null,
   "metadata": {},
   "outputs": [],
   "source": [
    "datos_comprados['month'] = datos_comprados['timestamp'].dt.month\n",
    "\n",
    "cross = pd.crosstab(datos_comprados.month, datos_comprados.weekday_name)\n",
    "cross = cross.reindex(columns=weekdays)\n",
    "cross.head()\n",
    "\n",
    "g = sb.heatmap(cross,  cmap=\"BuPu\")\n",
    "g.set_title(\"Cantidad de compras por mes y día de semana\", fontsize=22)\n",
    "g.set_xlabel(\"Día de semana\",fontsize=16)\n",
    "g.set_ylabel(\"Mes\", fontsize=16)"
   ]
  }
 ],
 "metadata": {
  "kernelspec": {
   "display_name": "Python 3",
   "language": "python",
   "name": "python3"
  },
  "language_info": {
   "codemirror_mode": {
    "name": "ipython",
    "version": 3
   },
   "file_extension": ".py",
   "mimetype": "text/x-python",
   "name": "python",
   "nbconvert_exporter": "python",
   "pygments_lexer": "ipython3",
   "version": "3.6.5"
  }
 },
 "nbformat": 4,
 "nbformat_minor": 2
}
